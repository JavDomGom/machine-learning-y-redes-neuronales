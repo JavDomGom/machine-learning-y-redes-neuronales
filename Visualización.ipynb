{
 "cells": [
  {
   "cell_type": "markdown",
   "id": "dcb40a8e",
   "metadata": {},
   "source": [
    "# Explorando - Visualización de datos"
   ]
  },
  {
   "cell_type": "markdown",
   "id": "06932de4",
   "metadata": {},
   "source": [
    "## Indicadores de Desarrollo Mundial"
   ]
  },
  {
   "cell_type": "code",
   "execution_count": 1,
   "id": "68cf4969",
   "metadata": {},
   "outputs": [],
   "source": [
    "import pandas as pd\n",
    "import numpy as np\n",
    "import random\n",
    "import matplotlib.pyplot as plt"
   ]
  },
  {
   "cell_type": "code",
   "execution_count": 2,
   "id": "4a4d973d",
   "metadata": {},
   "outputs": [
    {
     "data": {
      "text/plain": [
       "(5656458, 6)"
      ]
     },
     "execution_count": 2,
     "metadata": {},
     "output_type": "execute_result"
    }
   ],
   "source": [
    "data = pd.read_csv('wdi/Indicators.csv')\n",
    "data.shape"
   ]
  },
  {
   "cell_type": "code",
   "execution_count": 3,
   "id": "6e434e36",
   "metadata": {},
   "outputs": [
    {
     "data": {
      "text/html": [
       "<div>\n",
       "<style scoped>\n",
       "    .dataframe tbody tr th:only-of-type {\n",
       "        vertical-align: middle;\n",
       "    }\n",
       "\n",
       "    .dataframe tbody tr th {\n",
       "        vertical-align: top;\n",
       "    }\n",
       "\n",
       "    .dataframe thead th {\n",
       "        text-align: right;\n",
       "    }\n",
       "</style>\n",
       "<table border=\"1\" class=\"dataframe\">\n",
       "  <thead>\n",
       "    <tr style=\"text-align: right;\">\n",
       "      <th></th>\n",
       "      <th>CountryName</th>\n",
       "      <th>CountryCode</th>\n",
       "      <th>IndicatorName</th>\n",
       "      <th>IndicatorCode</th>\n",
       "      <th>Year</th>\n",
       "      <th>Value</th>\n",
       "    </tr>\n",
       "  </thead>\n",
       "  <tbody>\n",
       "    <tr>\n",
       "      <th>0</th>\n",
       "      <td>Arab World</td>\n",
       "      <td>ARB</td>\n",
       "      <td>Adolescent fertility rate (births per 1,000 wo...</td>\n",
       "      <td>SP.ADO.TFRT</td>\n",
       "      <td>1960</td>\n",
       "      <td>1.335609e+02</td>\n",
       "    </tr>\n",
       "    <tr>\n",
       "      <th>1</th>\n",
       "      <td>Arab World</td>\n",
       "      <td>ARB</td>\n",
       "      <td>Age dependency ratio (% of working-age populat...</td>\n",
       "      <td>SP.POP.DPND</td>\n",
       "      <td>1960</td>\n",
       "      <td>8.779760e+01</td>\n",
       "    </tr>\n",
       "    <tr>\n",
       "      <th>2</th>\n",
       "      <td>Arab World</td>\n",
       "      <td>ARB</td>\n",
       "      <td>Age dependency ratio, old (% of working-age po...</td>\n",
       "      <td>SP.POP.DPND.OL</td>\n",
       "      <td>1960</td>\n",
       "      <td>6.634579e+00</td>\n",
       "    </tr>\n",
       "    <tr>\n",
       "      <th>3</th>\n",
       "      <td>Arab World</td>\n",
       "      <td>ARB</td>\n",
       "      <td>Age dependency ratio, young (% of working-age ...</td>\n",
       "      <td>SP.POP.DPND.YG</td>\n",
       "      <td>1960</td>\n",
       "      <td>8.102333e+01</td>\n",
       "    </tr>\n",
       "    <tr>\n",
       "      <th>4</th>\n",
       "      <td>Arab World</td>\n",
       "      <td>ARB</td>\n",
       "      <td>Arms exports (SIPRI trend indicator values)</td>\n",
       "      <td>MS.MIL.XPRT.KD</td>\n",
       "      <td>1960</td>\n",
       "      <td>3.000000e+06</td>\n",
       "    </tr>\n",
       "  </tbody>\n",
       "</table>\n",
       "</div>"
      ],
      "text/plain": [
       "  CountryName CountryCode                                      IndicatorName  \\\n",
       "0  Arab World         ARB  Adolescent fertility rate (births per 1,000 wo...   \n",
       "1  Arab World         ARB  Age dependency ratio (% of working-age populat...   \n",
       "2  Arab World         ARB  Age dependency ratio, old (% of working-age po...   \n",
       "3  Arab World         ARB  Age dependency ratio, young (% of working-age ...   \n",
       "4  Arab World         ARB        Arms exports (SIPRI trend indicator values)   \n",
       "\n",
       "    IndicatorCode  Year         Value  \n",
       "0     SP.ADO.TFRT  1960  1.335609e+02  \n",
       "1     SP.POP.DPND  1960  8.779760e+01  \n",
       "2  SP.POP.DPND.OL  1960  6.634579e+00  \n",
       "3  SP.POP.DPND.YG  1960  8.102333e+01  \n",
       "4  MS.MIL.XPRT.KD  1960  3.000000e+06  "
      ]
     },
     "execution_count": 3,
     "metadata": {},
     "output_type": "execute_result"
    }
   ],
   "source": [
    "data.head()"
   ]
  },
  {
   "cell_type": "code",
   "execution_count": 4,
   "id": "f74aff4b",
   "metadata": {},
   "outputs": [
    {
     "data": {
      "text/html": [
       "<div>\n",
       "<style scoped>\n",
       "    .dataframe tbody tr th:only-of-type {\n",
       "        vertical-align: middle;\n",
       "    }\n",
       "\n",
       "    .dataframe tbody tr th {\n",
       "        vertical-align: top;\n",
       "    }\n",
       "\n",
       "    .dataframe thead th {\n",
       "        text-align: right;\n",
       "    }\n",
       "</style>\n",
       "<table border=\"1\" class=\"dataframe\">\n",
       "  <thead>\n",
       "    <tr style=\"text-align: right;\">\n",
       "      <th></th>\n",
       "      <th>CountryName</th>\n",
       "      <th>CountryCode</th>\n",
       "      <th>IndicatorName</th>\n",
       "      <th>IndicatorCode</th>\n",
       "      <th>Year</th>\n",
       "      <th>Value</th>\n",
       "    </tr>\n",
       "  </thead>\n",
       "  <tbody>\n",
       "    <tr>\n",
       "      <th>19522</th>\n",
       "      <td>Spain</td>\n",
       "      <td>ESP</td>\n",
       "      <td>Adolescent fertility rate (births per 1,000 wo...</td>\n",
       "      <td>SP.ADO.TFRT</td>\n",
       "      <td>1960</td>\n",
       "      <td>10.056400</td>\n",
       "    </tr>\n",
       "    <tr>\n",
       "      <th>19523</th>\n",
       "      <td>Spain</td>\n",
       "      <td>ESP</td>\n",
       "      <td>Age dependency ratio (% of working-age populat...</td>\n",
       "      <td>SP.POP.DPND</td>\n",
       "      <td>1960</td>\n",
       "      <td>55.132352</td>\n",
       "    </tr>\n",
       "    <tr>\n",
       "      <th>19524</th>\n",
       "      <td>Spain</td>\n",
       "      <td>ESP</td>\n",
       "      <td>Age dependency ratio, old (% of working-age po...</td>\n",
       "      <td>SP.POP.DPND.OL</td>\n",
       "      <td>1960</td>\n",
       "      <td>12.695256</td>\n",
       "    </tr>\n",
       "    <tr>\n",
       "      <th>19525</th>\n",
       "      <td>Spain</td>\n",
       "      <td>ESP</td>\n",
       "      <td>Age dependency ratio, young (% of working-age ...</td>\n",
       "      <td>SP.POP.DPND.YG</td>\n",
       "      <td>1960</td>\n",
       "      <td>42.437095</td>\n",
       "    </tr>\n",
       "    <tr>\n",
       "      <th>19526</th>\n",
       "      <td>Spain</td>\n",
       "      <td>ESP</td>\n",
       "      <td>Alternative and nuclear energy (% of total ene...</td>\n",
       "      <td>EG.USE.COMM.CL.ZS</td>\n",
       "      <td>1960</td>\n",
       "      <td>8.314033</td>\n",
       "    </tr>\n",
       "  </tbody>\n",
       "</table>\n",
       "</div>"
      ],
      "text/plain": [
       "      CountryName CountryCode  \\\n",
       "19522       Spain         ESP   \n",
       "19523       Spain         ESP   \n",
       "19524       Spain         ESP   \n",
       "19525       Spain         ESP   \n",
       "19526       Spain         ESP   \n",
       "\n",
       "                                           IndicatorName      IndicatorCode  \\\n",
       "19522  Adolescent fertility rate (births per 1,000 wo...        SP.ADO.TFRT   \n",
       "19523  Age dependency ratio (% of working-age populat...        SP.POP.DPND   \n",
       "19524  Age dependency ratio, old (% of working-age po...     SP.POP.DPND.OL   \n",
       "19525  Age dependency ratio, young (% of working-age ...     SP.POP.DPND.YG   \n",
       "19526  Alternative and nuclear energy (% of total ene...  EG.USE.COMM.CL.ZS   \n",
       "\n",
       "       Year      Value  \n",
       "19522  1960  10.056400  \n",
       "19523  1960  55.132352  \n",
       "19524  1960  12.695256  \n",
       "19525  1960  42.437095  \n",
       "19526  1960   8.314033  "
      ]
     },
     "execution_count": 4,
     "metadata": {},
     "output_type": "execute_result"
    }
   ],
   "source": [
    "filter = data['CountryName'] == 'Spain'\n",
    "data[filter].head()"
   ]
  },
  {
   "cell_type": "markdown",
   "id": "1bece298",
   "metadata": {},
   "source": [
    "### ¿Cuántos países hay?"
   ]
  },
  {
   "cell_type": "code",
   "execution_count": 5,
   "id": "a11477f7",
   "metadata": {},
   "outputs": [
    {
     "name": "stdout",
     "output_type": "stream",
     "text": [
      "Total países: 247\n"
     ]
    }
   ],
   "source": [
    "countries = data['CountryName'].unique().tolist()\n",
    "print(f'Total países: {len(countries)}')"
   ]
  },
  {
   "cell_type": "markdown",
   "id": "078efaa1",
   "metadata": {},
   "source": [
    "### ¿cuántos códigos de países hay?"
   ]
  },
  {
   "cell_type": "code",
   "execution_count": 6,
   "id": "5bf01ca0",
   "metadata": {},
   "outputs": [
    {
     "name": "stdout",
     "output_type": "stream",
     "text": [
      "Total códigos de países: 247\n"
     ]
    }
   ],
   "source": [
    "countryCodes = data['CountryCode'].unique().tolist()\n",
    "print(f'Total códigos de países: {len(countries)}')"
   ]
  },
  {
   "cell_type": "markdown",
   "id": "9d33ac4c",
   "metadata": {},
   "source": [
    "### ¿Cuántos indicadores hay?"
   ]
  },
  {
   "cell_type": "code",
   "execution_count": 7,
   "id": "0bc0b951",
   "metadata": {},
   "outputs": [
    {
     "name": "stdout",
     "output_type": "stream",
     "text": [
      "Total indicadores: 1344\n"
     ]
    }
   ],
   "source": [
    "indicators = data['IndicatorName'].unique().tolist()\n",
    "print(f'Total indicadores: {len(indicators)}')"
   ]
  },
  {
   "cell_type": "markdown",
   "id": "8fba5462",
   "metadata": {},
   "source": [
    "### ¿De cuántos años tenemos información?"
   ]
  },
  {
   "cell_type": "code",
   "execution_count": 8,
   "id": "ed47c73c",
   "metadata": {},
   "outputs": [
    {
     "name": "stdout",
     "output_type": "stream",
     "text": [
      "Total años: 56\n"
     ]
    }
   ],
   "source": [
    "years = data['Year'].unique().tolist()\n",
    "print(f'Total años: {len(years)}')"
   ]
  },
  {
   "cell_type": "markdown",
   "id": "85ae56e4",
   "metadata": {},
   "source": [
    "### ¿Cuál es el rango temporal?"
   ]
  },
  {
   "cell_type": "code",
   "execution_count": 9,
   "id": "73bcf3da",
   "metadata": {},
   "outputs": [
    {
     "name": "stdout",
     "output_type": "stream",
     "text": [
      "Rango tremporal desde 1960 a 2015.\n"
     ]
    }
   ],
   "source": [
    "print(f'Rango tremporal desde {min(years)} a {max(years)}.')"
   ]
  },
  {
   "cell_type": "markdown",
   "id": "5d251324",
   "metadata": {},
   "source": [
    "# Matplotlib: Gráficos básicos\n",
    "Vamos a explorar las emisiones per de un país en particular."
   ]
  },
  {
   "cell_type": "code",
   "execution_count": 12,
   "id": "dac0ae7d",
   "metadata": {},
   "outputs": [
    {
     "data": {
      "text/html": [
       "<div>\n",
       "<style scoped>\n",
       "    .dataframe tbody tr th:only-of-type {\n",
       "        vertical-align: middle;\n",
       "    }\n",
       "\n",
       "    .dataframe tbody tr th {\n",
       "        vertical-align: top;\n",
       "    }\n",
       "\n",
       "    .dataframe thead th {\n",
       "        text-align: right;\n",
       "    }\n",
       "</style>\n",
       "<table border=\"1\" class=\"dataframe\">\n",
       "  <thead>\n",
       "    <tr style=\"text-align: right;\">\n",
       "      <th></th>\n",
       "      <th>CountryName</th>\n",
       "      <th>CountryCode</th>\n",
       "      <th>IndicatorName</th>\n",
       "      <th>IndicatorCode</th>\n",
       "      <th>Year</th>\n",
       "      <th>Value</th>\n",
       "    </tr>\n",
       "  </thead>\n",
       "  <tbody>\n",
       "    <tr>\n",
       "      <th>4452312</th>\n",
       "      <td>Spain</td>\n",
       "      <td>ESP</td>\n",
       "      <td>CO2 emissions (metric tons per capita)</td>\n",
       "      <td>EN.ATM.CO2E.PC</td>\n",
       "      <td>2007</td>\n",
       "      <td>7.920891</td>\n",
       "    </tr>\n",
       "    <tr>\n",
       "      <th>4632435</th>\n",
       "      <td>Spain</td>\n",
       "      <td>ESP</td>\n",
       "      <td>CO2 emissions (metric tons per capita)</td>\n",
       "      <td>EN.ATM.CO2E.PC</td>\n",
       "      <td>2008</td>\n",
       "      <td>7.165452</td>\n",
       "    </tr>\n",
       "    <tr>\n",
       "      <th>4810986</th>\n",
       "      <td>Spain</td>\n",
       "      <td>ESP</td>\n",
       "      <td>CO2 emissions (metric tons per capita)</td>\n",
       "      <td>EN.ATM.CO2E.PC</td>\n",
       "      <td>2009</td>\n",
       "      <td>6.216973</td>\n",
       "    </tr>\n",
       "    <tr>\n",
       "      <th>4996776</th>\n",
       "      <td>Spain</td>\n",
       "      <td>ESP</td>\n",
       "      <td>CO2 emissions (metric tons per capita)</td>\n",
       "      <td>EN.ATM.CO2E.PC</td>\n",
       "      <td>2010</td>\n",
       "      <td>5.815787</td>\n",
       "    </tr>\n",
       "    <tr>\n",
       "      <th>5175009</th>\n",
       "      <td>Spain</td>\n",
       "      <td>ESP</td>\n",
       "      <td>CO2 emissions (metric tons per capita)</td>\n",
       "      <td>EN.ATM.CO2E.PC</td>\n",
       "      <td>2011</td>\n",
       "      <td>5.790764</td>\n",
       "    </tr>\n",
       "  </tbody>\n",
       "</table>\n",
       "</div>"
      ],
      "text/plain": [
       "        CountryName CountryCode                           IndicatorName  \\\n",
       "4452312       Spain         ESP  CO2 emissions (metric tons per capita)   \n",
       "4632435       Spain         ESP  CO2 emissions (metric tons per capita)   \n",
       "4810986       Spain         ESP  CO2 emissions (metric tons per capita)   \n",
       "4996776       Spain         ESP  CO2 emissions (metric tons per capita)   \n",
       "5175009       Spain         ESP  CO2 emissions (metric tons per capita)   \n",
       "\n",
       "          IndicatorCode  Year     Value  \n",
       "4452312  EN.ATM.CO2E.PC  2007  7.920891  \n",
       "4632435  EN.ATM.CO2E.PC  2008  7.165452  \n",
       "4810986  EN.ATM.CO2E.PC  2009  6.216973  \n",
       "4996776  EN.ATM.CO2E.PC  2010  5.815787  \n",
       "5175009  EN.ATM.CO2E.PC  2011  5.790764  "
      ]
     },
     "execution_count": 12,
     "metadata": {},
     "output_type": "execute_result"
    }
   ],
   "source": [
    "# Nombre del indicador => CO2 emissions (metric tons per capita)\n",
    "hist_indicator = 'CO2 emissions \\(metric'\n",
    "hist_country = 'ESP'\n",
    "\n",
    "mask1 = data['IndicatorName'].str.contains(hist_indicator)\n",
    "mask2 = data['CountryCode'].str.contains(hist_country)\n",
    "\n",
    "# Aplicamos ambas máscaras.\n",
    "total_co2 = data[mask1 & mask2]\n",
    "total_co2.tail()"
   ]
  },
  {
   "cell_type": "markdown",
   "id": "5a00c303",
   "metadata": {},
   "source": [
    "## Veamos cómo cambiaron las emisiones en el tiempo"
   ]
  },
  {
   "cell_type": "code",
   "execution_count": 28,
   "id": "6370cd89",
   "metadata": {},
   "outputs": [
    {
     "data": {
      "image/png": "[encoded data removed]",
      "text/plain": [
       "<Figure size 432x288 with 1 Axes>"
      ]
     },
     "metadata": {
      "needs_background": "light"
     },
     "output_type": "display_data"
    }
   ],
   "source": [
    "# Obtenemos los años\n",
    "years = total_co2['Year']\n",
    "\n",
    "# Obtenemos los valores de cada año.\n",
    "co2 = total_co2['Value']\n",
    "\n",
    "# Dibujamos.\n",
    "plt.bar(years, co2)\n",
    "plt.show()"
   ]
  },
  {
   "cell_type": "code",
   "execution_count": 35,
   "id": "31a91e3f",
   "metadata": {},
   "outputs": [
    {
     "data": {
      "image/png": "[encoded data removed]",
      "text/plain": [
       "<Figure size 432x288 with 1 Axes>"
      ]
     },
     "metadata": {
      "needs_background": "light"
     },
     "output_type": "display_data"
    }
   ],
   "source": [
    "# Cambiamos a gráfico de líneas.\n",
    "plt.plot(total_co2['Year'].values, total_co2['Value'])\n",
    "plt.show()"
   ]
  },
  {
   "cell_type": "code",
   "execution_count": 34,
   "id": "5e1e1917",
   "metadata": {},
   "outputs": [
    {
     "data": {
      "image/png": "[encoded data removed]",
      "text/plain": [
       "<Figure size 432x288 with 1 Axes>"
      ]
     },
     "metadata": {
      "needs_background": "light"
     },
     "output_type": "display_data"
    }
   ],
   "source": [
    "# Ponemos etiquetas a los ejes.\n",
    "plt.xlabel('Año')\n",
    "plt.ylabel('Emisiones de CO2 (Toneladas cúbicas per cápita)')\n",
    "\n",
    "# Añadimos un título al gráfico.\n",
    "plt.title('Emisiones de CO2 en España')\n",
    "\n",
    "# Corregimos las escalas.\n",
    "\n",
    "plt.plot(total_co2['Year'].values, total_co2['Value'])\n",
    "plt.show()"
   ]
  },
  {
   "cell_type": "markdown",
   "id": "f1f3c42b",
   "metadata": {},
   "source": [
    "### Usando histogramas para explorar la distribución de valores"
   ]
  },
  {
   "cell_type": "code",
   "execution_count": 38,
   "id": "15dd84d6",
   "metadata": {},
   "outputs": [
    {
     "name": "stdout",
     "output_type": "stream",
     "text": [
      "<class 'pandas.core.series.Series'>\n"
     ]
    }
   ],
   "source": [
    "# Primero aislamos la columna Value del dataframe total_co2, este será una Serie.\n",
    "\n",
    "hist_data = total_co2['Value']\n",
    "print(type(hist_data))"
   ]
  },
  {
   "cell_type": "code",
   "execution_count": 39,
   "id": "df303c63",
   "metadata": {},
   "outputs": [
    {
     "data": {
      "image/png": "[encoded data removed]",
      "text/plain": [
       "<Figure size 432x288 with 1 Axes>"
      ]
     },
     "metadata": {
      "needs_background": "light"
     },
     "output_type": "display_data"
    }
   ],
   "source": [
    "# Dibujamos el histograma.\n",
    "\n",
    "plt.hist(hist_data, 10, facecolor='green')\n",
    "\n",
    "# Ponemos etiquetas a los ejes.\n",
    "plt.xlabel(total_co2['IndicatorName'].iloc[0])\n",
    "plt.ylabel('# de Años')\n",
    "\n",
    "# Añadimos un título al gráfico.\n",
    "plt.title('Histograma')\n",
    "\n",
    "plt.grid(True)\n",
    "plt.show()"
   ]
  },
  {
   "cell_type": "markdown",
   "id": "92cd1767",
   "metadata": {},
   "source": [
    "### Pero... ¿cómo está España con respecto a otros países?"
   ]
  },
  {
   "cell_type": "code",
   "execution_count": 40,
   "id": "03c39e65",
   "metadata": {},
   "outputs": [
    {
     "data": {
      "text/html": [
       "<div>\n",
       "<style scoped>\n",
       "    .dataframe tbody tr th:only-of-type {\n",
       "        vertical-align: middle;\n",
       "    }\n",
       "\n",
       "    .dataframe tbody tr th {\n",
       "        vertical-align: top;\n",
       "    }\n",
       "\n",
       "    .dataframe thead th {\n",
       "        text-align: right;\n",
       "    }\n",
       "</style>\n",
       "<table border=\"1\" class=\"dataframe\">\n",
       "  <thead>\n",
       "    <tr style=\"text-align: right;\">\n",
       "      <th></th>\n",
       "      <th>CountryName</th>\n",
       "      <th>CountryCode</th>\n",
       "      <th>IndicatorName</th>\n",
       "      <th>IndicatorCode</th>\n",
       "      <th>Year</th>\n",
       "      <th>Value</th>\n",
       "    </tr>\n",
       "  </thead>\n",
       "  <tbody>\n",
       "    <tr>\n",
       "      <th>5026275</th>\n",
       "      <td>Arab World</td>\n",
       "      <td>ARB</td>\n",
       "      <td>CO2 emissions (metric tons per capita)</td>\n",
       "      <td>EN.ATM.CO2E.PC</td>\n",
       "      <td>2011</td>\n",
       "      <td>4.724500</td>\n",
       "    </tr>\n",
       "    <tr>\n",
       "      <th>5026788</th>\n",
       "      <td>Caribbean small states</td>\n",
       "      <td>CSS</td>\n",
       "      <td>CO2 emissions (metric tons per capita)</td>\n",
       "      <td>EN.ATM.CO2E.PC</td>\n",
       "      <td>2011</td>\n",
       "      <td>9.692960</td>\n",
       "    </tr>\n",
       "    <tr>\n",
       "      <th>5027295</th>\n",
       "      <td>Central Europe and the Baltics</td>\n",
       "      <td>CEB</td>\n",
       "      <td>CO2 emissions (metric tons per capita)</td>\n",
       "      <td>EN.ATM.CO2E.PC</td>\n",
       "      <td>2011</td>\n",
       "      <td>6.911131</td>\n",
       "    </tr>\n",
       "    <tr>\n",
       "      <th>5027870</th>\n",
       "      <td>East Asia &amp; Pacific (all income levels)</td>\n",
       "      <td>EAS</td>\n",
       "      <td>CO2 emissions (metric tons per capita)</td>\n",
       "      <td>EN.ATM.CO2E.PC</td>\n",
       "      <td>2011</td>\n",
       "      <td>5.859548</td>\n",
       "    </tr>\n",
       "    <tr>\n",
       "      <th>5028456</th>\n",
       "      <td>East Asia &amp; Pacific (developing only)</td>\n",
       "      <td>EAP</td>\n",
       "      <td>CO2 emissions (metric tons per capita)</td>\n",
       "      <td>EN.ATM.CO2E.PC</td>\n",
       "      <td>2011</td>\n",
       "      <td>5.302499</td>\n",
       "    </tr>\n",
       "  </tbody>\n",
       "</table>\n",
       "</div>"
      ],
      "text/plain": [
       "                                     CountryName CountryCode  \\\n",
       "5026275                               Arab World         ARB   \n",
       "5026788                   Caribbean small states         CSS   \n",
       "5027295           Central Europe and the Baltics         CEB   \n",
       "5027870  East Asia & Pacific (all income levels)         EAS   \n",
       "5028456    East Asia & Pacific (developing only)         EAP   \n",
       "\n",
       "                                  IndicatorName   IndicatorCode  Year  \\\n",
       "5026275  CO2 emissions (metric tons per capita)  EN.ATM.CO2E.PC  2011   \n",
       "5026788  CO2 emissions (metric tons per capita)  EN.ATM.CO2E.PC  2011   \n",
       "5027295  CO2 emissions (metric tons per capita)  EN.ATM.CO2E.PC  2011   \n",
       "5027870  CO2 emissions (metric tons per capita)  EN.ATM.CO2E.PC  2011   \n",
       "5028456  CO2 emissions (metric tons per capita)  EN.ATM.CO2E.PC  2011   \n",
       "\n",
       "            Value  \n",
       "5026275  4.724500  \n",
       "5026788  9.692960  \n",
       "5027295  6.911131  \n",
       "5027870  5.859548  \n",
       "5028456  5.302499  "
      ]
     },
     "execution_count": 40,
     "metadata": {},
     "output_type": "execute_result"
    }
   ],
   "source": [
    "# Seleccionamos todos los países en el año 2011.\n",
    "hist_indicator = 'CO2 emissions \\(metric'\n",
    "hist_year = 2011\n",
    "\n",
    "mask1 = data['IndicatorName'].str.contains(hist_indicator)\n",
    "mask2 = data['Year'].isin([hist_year])\n",
    "\n",
    "# Aplicamos las máscaras.\n",
    "co2_2011 = data[mask1 & mask2]\n",
    "co2_2011.head()"
   ]
  },
  {
   "cell_type": "code",
   "execution_count": 41,
   "id": "8d2b74dd",
   "metadata": {},
   "outputs": [
    {
     "name": "stdout",
     "output_type": "stream",
     "text": [
      "232\n"
     ]
    }
   ],
   "source": [
    "print(len(co2_2011))"
   ]
  },
  {
   "cell_type": "code",
   "execution_count": 45,
   "id": "859eef44",
   "metadata": {},
   "outputs": [
    {
     "data": {
      "image/png": "[encoded data removed]",
      "text/plain": [
       "<Figure size 432x288 with 1 Axes>"
      ]
     },
     "metadata": {
      "needs_background": "light"
     },
     "output_type": "display_data"
    }
   ],
   "source": [
    "fig, ax = plt.subplots()\n",
    "\n",
    "ax.annotate(\n",
    "    \"España\",\n",
    "    xy=(20, 5), xycoords='data',\n",
    "    xytext=(23, 30), textcoords='data',\n",
    "    arrowprops=dict(\n",
    "        arrowstyle='->',\n",
    "        connectionstyle='arc3'\n",
    "    )\n",
    ")\n",
    "\n",
    "plt.hist(co2_2011['Value'], 10, density=False, facecolor='green')\n",
    "\n",
    "plt.xlabel(total_co2['IndicatorName'].iloc[0])\n",
    "plt.ylabel('# de países')\n",
    "plt.title('Histograma de emiiones de CO2 per cápita')\n",
    "\n",
    "plt.grid(True)\n",
    "plt.show()"
   ]
  },
  {
   "cell_type": "code",
   "execution_count": 47,
   "id": "821e3531",
   "metadata": {},
   "outputs": [
    {
     "data": {
      "text/html": [
       "<div>\n",
       "<style scoped>\n",
       "    .dataframe tbody tr th:only-of-type {\n",
       "        vertical-align: middle;\n",
       "    }\n",
       "\n",
       "    .dataframe tbody tr th {\n",
       "        vertical-align: top;\n",
       "    }\n",
       "\n",
       "    .dataframe thead th {\n",
       "        text-align: right;\n",
       "    }\n",
       "</style>\n",
       "<table border=\"1\" class=\"dataframe\">\n",
       "  <thead>\n",
       "    <tr style=\"text-align: right;\">\n",
       "      <th></th>\n",
       "      <th>CountryName</th>\n",
       "      <th>CountryCode</th>\n",
       "      <th>IndicatorName</th>\n",
       "      <th>IndicatorCode</th>\n",
       "      <th>Year</th>\n",
       "      <th>Value</th>\n",
       "    </tr>\n",
       "  </thead>\n",
       "  <tbody>\n",
       "    <tr>\n",
       "      <th>19580</th>\n",
       "      <td>Spain</td>\n",
       "      <td>ESP</td>\n",
       "      <td>GDP per capita (constant 2005 US$)</td>\n",
       "      <td>NY.GDP.PCAP.KD</td>\n",
       "      <td>1960</td>\n",
       "      <td>6271.857057</td>\n",
       "    </tr>\n",
       "    <tr>\n",
       "      <th>45680</th>\n",
       "      <td>Spain</td>\n",
       "      <td>ESP</td>\n",
       "      <td>GDP per capita (constant 2005 US$)</td>\n",
       "      <td>NY.GDP.PCAP.KD</td>\n",
       "      <td>1961</td>\n",
       "      <td>6949.499029</td>\n",
       "    </tr>\n",
       "    <tr>\n",
       "      <th>73878</th>\n",
       "      <td>Spain</td>\n",
       "      <td>ESP</td>\n",
       "      <td>GDP per capita (constant 2005 US$)</td>\n",
       "      <td>NY.GDP.PCAP.KD</td>\n",
       "      <td>1962</td>\n",
       "      <td>7571.233894</td>\n",
       "    </tr>\n",
       "  </tbody>\n",
       "</table>\n",
       "</div>"
      ],
      "text/plain": [
       "      CountryName CountryCode                       IndicatorName  \\\n",
       "19580       Spain         ESP  GDP per capita (constant 2005 US$)   \n",
       "45680       Spain         ESP  GDP per capita (constant 2005 US$)   \n",
       "73878       Spain         ESP  GDP per capita (constant 2005 US$)   \n",
       "\n",
       "        IndicatorCode  Year        Value  \n",
       "19580  NY.GDP.PCAP.KD  1960  6271.857057  \n",
       "45680  NY.GDP.PCAP.KD  1961  6949.499029  \n",
       "73878  NY.GDP.PCAP.KD  1962  7571.233894  "
      ]
     },
     "execution_count": 47,
     "metadata": {},
     "output_type": "execute_result"
    }
   ],
   "source": [
    "# Seleccionamos el PIB de España (GDP).\n",
    "hist_indicator = 'GDP per capita \\(constant 2005'\n",
    "hist_country = 'ESP'\n",
    "\n",
    "mask1 = data['IndicatorName'].str.contains(hist_indicator)\n",
    "mask2 = data['CountryCode'].str.contains(hist_country)\n",
    "\n",
    "# Aplicamos las máscaras.\n",
    "gdp_stage = data[mask1 & mask2]\n",
    "gdp_stage.head(3)"
   ]
  },
  {
   "cell_type": "code",
   "execution_count": 48,
   "id": "1e13ea6a",
   "metadata": {},
   "outputs": [
    {
     "data": {
      "image/png": "[encoded data removed]",
      "text/plain": [
       "<Figure size 432x288 with 1 Axes>"
      ]
     },
     "metadata": {
      "needs_background": "light"
     },
     "output_type": "display_data"
    }
   ],
   "source": [
    "# Dibujamos un gráfico de líneas.\n",
    "plt.plot(gdp_stage['Year'].values, gdp_stage['Value'].values)\n",
    "\n",
    "plt.xlabel('Año')\n",
    "plt.ylabel(gdp_stage['IndicatorName'].iloc[0])\n",
    "plt.title('PIB per cápita en España')\n",
    "\n",
    "plt.show()"
   ]
  },
  {
   "cell_type": "markdown",
   "id": "f8ccf567",
   "metadata": {},
   "source": [
    "### Gráfico de dispersión para comparar PIB vs CO2\n",
    "Para este \"Scatter plot\" nos tenemos que asegurar que estamos viendo tanto en PIB como en CO2 las mismas ventanas temporales."
   ]
  },
  {
   "cell_type": "code",
   "execution_count": 50,
   "id": "5d6b5bba",
   "metadata": {},
   "outputs": [
    {
     "name": "stdout",
     "output_type": "stream",
     "text": [
      "PIB min year: 1960, max: 2014\n",
      "CO2 min year: 1960, max: 2011\n"
     ]
    }
   ],
   "source": [
    "print(f'PIB min year: {gdp_stage[\"Year\"].min()}, max: {gdp_stage[\"Year\"].max()}')\n",
    "print(f'CO2 min year: {total_co2[\"Year\"].min()}, max: {total_co2[\"Year\"].max()}')"
   ]
  },
  {
   "cell_type": "code",
   "execution_count": 51,
   "id": "a1464d25",
   "metadata": {},
   "outputs": [],
   "source": [
    "# Cuidado! Tenemos 3 años adicionales de PIB con respecto a CO2."
   ]
  },
  {
   "cell_type": "code",
   "execution_count": 54,
   "id": "c9c4b1ef",
   "metadata": {},
   "outputs": [
    {
     "name": "stdout",
     "output_type": "stream",
     "text": [
      "52\n",
      "52\n"
     ]
    }
   ],
   "source": [
    "gdp_stage_trunc = gdp_stage[gdp_stage['Year'] < 2012]\n",
    "print(len(gdp_stage_trunc))\n",
    "print(len(total_co2))"
   ]
  },
  {
   "cell_type": "code",
   "execution_count": 55,
   "id": "29b76dd3",
   "metadata": {},
   "outputs": [
    {
     "data": {
      "image/png": "[encoded data removed]",
      "text/plain": [
       "<Figure size 432x288 with 1 Axes>"
      ]
     },
     "metadata": {
      "needs_background": "light"
     },
     "output_type": "display_data"
    }
   ],
   "source": [
    "fig, axis = plt.subplots()\n",
    "\n",
    "axis.yaxis.grid(True)\n",
    "axis.set_title('CO2 Emissions vs. GDP \\(per capita\\)', fontsize=10)\n",
    "axis.set_xlabel(gdp_stage_trunc['IndicatorName'].iloc[0], fontsize=10)\n",
    "axis.set_ylabel(total_co2['IndicatorName'].iloc[0], fontsize=10)\n",
    "\n",
    "X = gdp_stage_trunc['Value']\n",
    "Y = total_co2['Value']\n",
    "\n",
    "axis.scatter(X, Y)\n",
    "plt.show()"
   ]
  },
  {
   "cell_type": "code",
   "execution_count": 57,
   "id": "24425896",
   "metadata": {},
   "outputs": [
    {
     "data": {
      "text/plain": [
       "array([[1.        , 0.92645763],\n",
       "       [0.92645763, 1.        ]])"
      ]
     },
     "execution_count": 57,
     "metadata": {},
     "output_type": "execute_result"
    }
   ],
   "source": [
    "# Imprimimos una tabla de coeficientes de correlación.\n",
    "np.corrcoef(gdp_stage_trunc['Value'], total_co2['Value'])\n",
    "\n",
    "# Se puede ver cómo hay una estrecha relación entre los valores."
   ]
  },
  {
   "cell_type": "markdown",
   "id": "dc996cb9",
   "metadata": {},
   "source": [
    "### Los gráficos, hablan!"
   ]
  },
  {
   "cell_type": "markdown",
   "id": "2fd559e2",
   "metadata": {},
   "source": [
    "El gráfico anterior nos indica que según aumenta el PIB (GDP) se aumentan las emisiones de CO2, pero también podemos ver un quiebre en los puntos en los que más PIB hemos generado, entorno a los 26000-27000, donde también ha bajado la cantidad de CO2 emitido, y este quiebre se está produciendo cuando más dinero se está generando. Esto habla de una posible inversión en la protección del medioambiente, en el caso de España."
   ]
  },
  {
   "cell_type": "code",
   "execution_count": null,
   "id": "fef9e09c",
   "metadata": {},
   "outputs": [],
   "source": []
  }
 ],
 "metadata": {
  "kernelspec": {
   "display_name": "Python 3",
   "language": "python",
   "name": "python3"
  },
  "language_info": {
   "codemirror_mode": {
    "name": "ipython",
    "version": 3
   },
   "file_extension": ".py",
   "mimetype": "text/x-python",
   "name": "python",
   "nbconvert_exporter": "python",
   "pygments_lexer": "ipython3",
   "version": "3.8.8"
  }
 },
 "nbformat": 4,
 "nbformat_minor": 5
}
