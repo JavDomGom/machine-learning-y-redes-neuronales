{
 "cells": [
  {
   "cell_type": "markdown",
   "id": "539f2517",
   "metadata": {},
   "source": [
    "# NumPy"
   ]
  },
  {
   "cell_type": "code",
   "execution_count": 15,
   "id": "97b83bea",
   "metadata": {},
   "outputs": [],
   "source": [
    "import numpy as np"
   ]
  },
  {
   "cell_type": "markdown",
   "id": "8f7e5133",
   "metadata": {},
   "source": [
    "### Array unidimensional"
   ]
  },
  {
   "cell_type": "code",
   "execution_count": 19,
   "id": "cf21943c",
   "metadata": {},
   "outputs": [
    {
     "name": "stdout",
     "output_type": "stream",
     "text": [
      "<class 'numpy.ndarray'>\n"
     ]
    }
   ],
   "source": [
    "arr_1 = np.array([1, 11, 111, 1111])\n",
    "print(type(arr_1))"
   ]
  },
  {
   "cell_type": "code",
   "execution_count": 20,
   "id": "c9b2b2e7",
   "metadata": {},
   "outputs": [
    {
     "name": "stdout",
     "output_type": "stream",
     "text": [
      "[   1   11  111 1111]\n",
      "(4,)\n",
      "<class 'tuple'>\n"
     ]
    }
   ],
   "source": [
    "# Con shape podemos ver la forma del array.\n",
    "print(arr_1)\n",
    "print(arr_1.shape)\n",
    "print(type(arr_1.shape))"
   ]
  },
  {
   "cell_type": "markdown",
   "id": "80c0e42a",
   "metadata": {},
   "source": [
    "### Array de dos dimensiones (m x n)"
   ]
  },
  {
   "cell_type": "markdown",
   "id": "c28ebef3",
   "metadata": {},
   "source": [
    "$ M^{m \\times n} =\n",
    "\\left( \\begin{array}{cccc}\n",
    " 11_{0,0} & 12_{0,1} & 13_{0,2} \\\\\n",
    " 21_{1,0} & 22_{1,1} & 23_{1,2} \\\\\n",
    " 31_{2,0} & 32_{2,1} & 33_{2,2} \\\\\n",
    "\\end{array} \\right)$"
   ]
  },
  {
   "cell_type": "code",
   "execution_count": 29,
   "id": "8f4caaa8",
   "metadata": {},
   "outputs": [
    {
     "name": "stdout",
     "output_type": "stream",
     "text": [
      "[[10 11 12]\n",
      " [20 21 22]\n",
      " [30 31 32]]\n",
      "(3, 3)\n"
     ]
    }
   ],
   "source": [
    "arr_2 = np.array([[10, 11, 12], [20, 21, 22], [30, 31, 32]])\n",
    "print(arr_2)\n",
    "print(arr_2.shape)"
   ]
  },
  {
   "cell_type": "markdown",
   "id": "c018869b",
   "metadata": {},
   "source": [
    "### Distintas maneras de crear nd arrays"
   ]
  },
  {
   "cell_type": "code",
   "execution_count": 30,
   "id": "462a6e90",
   "metadata": {},
   "outputs": [
    {
     "name": "stdout",
     "output_type": "stream",
     "text": [
      "[[0. 0. 0. ... 0. 0. 0.]\n",
      " [0. 0. 0. ... 0. 0. 0.]\n",
      " [0. 0. 0. ... 0. 0. 0.]\n",
      " ...\n",
      " [0. 0. 0. ... 0. 0. 0.]\n",
      " [0. 0. 0. ... 0. 0. 0.]\n",
      " [0. 0. 0. ... 0. 0. 0.]]\n"
     ]
    }
   ],
   "source": [
    "# 1. Crear array lleno de ceros.\n",
    "ej1 = np.zeros((1080, 1920))\n",
    "print(ej1)"
   ]
  },
  {
   "cell_type": "code",
   "execution_count": 32,
   "id": "c163cfd2",
   "metadata": {},
   "outputs": [
    {
     "name": "stdout",
     "output_type": "stream",
     "text": [
      "[[9.1 9.1]\n",
      " [9.1 9.1]]\n"
     ]
    }
   ],
   "source": [
    "# 2. Crear array lleno de un valor determinado.\n",
    "ej2 = np.full((2, 2), 9.1)\n",
    "print(ej2)"
   ]
  },
  {
   "cell_type": "code",
   "execution_count": 36,
   "id": "6f0c405d",
   "metadata": {},
   "outputs": [
    {
     "name": "stdout",
     "output_type": "stream",
     "text": [
      "[[1. 0. 0. 0. 0. 0. 0.]\n",
      " [0. 1. 0. 0. 0. 0. 0.]\n",
      " [0. 0. 1. 0. 0. 0. 0.]\n",
      " [0. 0. 0. 1. 0. 0. 0.]\n",
      " [0. 0. 0. 0. 1. 0. 0.]\n",
      " [0. 0. 0. 0. 0. 1. 0.]\n",
      " [0. 0. 0. 0. 0. 0. 1.]]\n"
     ]
    }
   ],
   "source": [
    "# 3. Crear array de 2x2 con 1 en diagonal y el resto 0.\n",
    "ej3 = np.eye(7, 7)\n",
    "print(ej3)"
   ]
  },
  {
   "cell_type": "code",
   "execution_count": 39,
   "id": "f2a23e1c",
   "metadata": {},
   "outputs": [
    {
     "name": "stdout",
     "output_type": "stream",
     "text": [
      "[[[1. 1. 1. 1. 1. 1. 1.]\n",
      "  [1. 1. 1. 1. 1. 1. 1.]]\n",
      "\n",
      " [[1. 1. 1. 1. 1. 1. 1.]\n",
      "  [1. 1. 1. 1. 1. 1. 1.]]\n",
      "\n",
      " [[1. 1. 1. 1. 1. 1. 1.]\n",
      "  [1. 1. 1. 1. 1. 1. 1.]]\n",
      "\n",
      " [[1. 1. 1. 1. 1. 1. 1.]\n",
      "  [1. 1. 1. 1. 1. 1. 1.]]\n",
      "\n",
      " [[1. 1. 1. 1. 1. 1. 1.]\n",
      "  [1. 1. 1. 1. 1. 1. 1.]]\n",
      "\n",
      " [[1. 1. 1. 1. 1. 1. 1.]\n",
      "  [1. 1. 1. 1. 1. 1. 1.]]\n",
      "\n",
      " [[1. 1. 1. 1. 1. 1. 1.]\n",
      "  [1. 1. 1. 1. 1. 1. 1.]]\n",
      "\n",
      " [[1. 1. 1. 1. 1. 1. 1.]\n",
      "  [1. 1. 1. 1. 1. 1. 1.]]\n",
      "\n",
      " [[1. 1. 1. 1. 1. 1. 1.]\n",
      "  [1. 1. 1. 1. 1. 1. 1.]]\n",
      "\n",
      " [[1. 1. 1. 1. 1. 1. 1.]\n",
      "  [1. 1. 1. 1. 1. 1. 1.]]]\n"
     ]
    }
   ],
   "source": [
    "# 4. Crear array de 10x2x7 (3 dimensiones) lleno de unos.\n",
    "ej4 = np.ones((10, 2, 7))\n",
    "print(ej4)"
   ]
  },
  {
   "cell_type": "code",
   "execution_count": 40,
   "id": "50060a97",
   "metadata": {},
   "outputs": [
    {
     "name": "stdout",
     "output_type": "stream",
     "text": [
      "[[0.88795291 0.50881649 0.7992301  0.81872941 0.08111441]\n",
      " [0.27489748 0.72329582 0.13981929 0.42112817 0.01616997]\n",
      " [0.72720598 0.79042704 0.05775596 0.05604506 0.00192904]\n",
      " [0.99589912 0.60254712 0.05852375 0.01255554 0.90073828]\n",
      " [0.99601374 0.59643032 0.50319382 0.6754609  0.72261016]]\n"
     ]
    }
   ],
   "source": [
    "# 5. Crear array de floats aleatorios entre 0 y 1.\n",
    "ej5 = np.random.random((5, 5))\n",
    "print(ej5)"
   ]
  },
  {
   "cell_type": "markdown",
   "id": "ac8a579a",
   "metadata": {},
   "source": [
    "### Array de índices\n",
    "A veces es útil preparar una serie de índices en un array para luego utilizarlos para operar sobre otro array."
   ]
  },
  {
   "cell_type": "code",
   "execution_count": 42,
   "id": "8fc65593",
   "metadata": {},
   "outputs": [
    {
     "name": "stdout",
     "output_type": "stream",
     "text": [
      "[[11 12 13]\n",
      " [21 22 23]\n",
      " [31 32 33]\n",
      " [41 42 43]]\n",
      "(4, 3)\n"
     ]
    }
   ],
   "source": [
    "# Creamos nuevo array.\n",
    "\n",
    "arr_a = np.array(\n",
    "    [[11, 12, 13], [21, 22, 23], [31, 32, 33], [41, 42, 43]]\n",
    ")\n",
    "print(arr_a)\n",
    "print(arr_a.shape)"
   ]
  },
  {
   "cell_type": "code",
   "execution_count": 48,
   "id": "a0e534f0",
   "metadata": {},
   "outputs": [
    {
     "name": "stdout",
     "output_type": "stream",
     "text": [
      "Elegimos estos índices para filas -> [0 1 2 3]\n",
      "Elegimos estos índices para columnas -> [0 1 2 0]\n"
     ]
    }
   ],
   "source": [
    "# Creamos 2 arrays con números enteros que usaremos como índices.\n",
    "\n",
    "rows = np.arange(4)\n",
    "cols = np.array([0, 1, 2, 0])\n",
    "\n",
    "print(f'Elegimos estos índices para filas -> {rows}')\n",
    "print(f'Elegimos estos índices para columnas -> {cols}')"
   ]
  },
  {
   "cell_type": "code",
   "execution_count": 49,
   "id": "9436df4e",
   "metadata": {},
   "outputs": [
    {
     "name": "stdout",
     "output_type": "stream",
     "text": [
      "(0, 0)\n",
      "(1, 1)\n",
      "(2, 2)\n",
      "(3, 0)\n"
     ]
    }
   ],
   "source": [
    "# Imprimimos los índices tomando uno de cada array de a pares.\n",
    "\n",
    "for row, col, in zip(rows, cols):\n",
    "    print(f'({row}, {col})')"
   ]
  },
  {
   "cell_type": "code",
   "execution_count": 54,
   "id": "ccb6c598",
   "metadata": {},
   "outputs": [
    {
     "name": "stdout",
     "output_type": "stream",
     "text": [
      "Valores contenidos en los índices: [11 22 33 41]\n"
     ]
    }
   ],
   "source": [
    "# Seleccionamos un elemento de cada fila de la siguiente manera.\n",
    "\n",
    "print(f'Valores contenidos en los índices: {arr_a[rows, cols]}')"
   ]
  },
  {
   "cell_type": "code",
   "execution_count": 55,
   "id": "679c778c",
   "metadata": {},
   "outputs": [
    {
     "name": "stdout",
     "output_type": "stream",
     "text": [
      "[[11 12 13]\n",
      " [21 22 23]\n",
      " [31 32 33]\n",
      " [41 42 43]]\n",
      "[[1011   12   13]\n",
      " [  21 1022   23]\n",
      " [  31   32 1033]\n",
      " [1041   42   43]]\n"
     ]
    }
   ],
   "source": [
    "# Operamos únicamente con los valores seleccionados.\n",
    "\n",
    "print(arr_a)\n",
    "arr_a[rows, cols] += 1000\n",
    "print(arr_a)"
   ]
  },
  {
   "cell_type": "markdown",
   "id": "68ea69a8",
   "metadata": {},
   "source": [
    "### Indexado Booleano\n",
    "Indexado booleano para cambiar elementos."
   ]
  },
  {
   "cell_type": "code",
   "execution_count": 57,
   "id": "6bd51bf0",
   "metadata": {},
   "outputs": [
    {
     "name": "stdout",
     "output_type": "stream",
     "text": [
      "[[11 12]\n",
      " [21 22]\n",
      " [31 32]]\n",
      "(3, 2)\n"
     ]
    }
   ],
   "source": [
    "# Creamos un array de 3x2.\n",
    "\n",
    "arr_b = np.array([[11, 12], [21, 22], [31, 32]])\n",
    "print(arr_b)\n",
    "print(arr_b.shape)"
   ]
  },
  {
   "cell_type": "code",
   "execution_count": 58,
   "id": "37349f63",
   "metadata": {},
   "outputs": [
    {
     "data": {
      "text/plain": [
       "array([[False, False],\n",
       "       [ True,  True],\n",
       "       [ True,  True]])"
      ]
     },
     "execution_count": 58,
     "metadata": {},
     "output_type": "execute_result"
    }
   ],
   "source": [
    "# Creamos un filtro.\n",
    "\n",
    "filtro = (arr_b > 15)\n",
    "filtro"
   ]
  },
  {
   "cell_type": "code",
   "execution_count": 59,
   "id": "0e84e38c",
   "metadata": {},
   "outputs": [
    {
     "name": "stdout",
     "output_type": "stream",
     "text": [
      "[21 22 31 32]\n"
     ]
    }
   ],
   "source": [
    "# Aplicamos el filtro a nuestro array.\n",
    "\n",
    "filtrado = arr_b[filtro]\n",
    "print(filtrado)"
   ]
  },
  {
   "cell_type": "code",
   "execution_count": 64,
   "id": "325bb06f",
   "metadata": {},
   "outputs": [
    {
     "name": "stdout",
     "output_type": "stream",
     "text": [
      "[21 22 31 32]\n",
      "[12 22 32]\n"
     ]
    }
   ],
   "source": [
    "# No es necesario crear primero el filtro y luego aplicarlo.\n",
    "# Se puede hacer directamente de la siguiente manera.\n",
    "\n",
    "print(arr_b[(arr_b > 15)])\n",
    "\n",
    "# Otro filtro.\n",
    "\n",
    "print(arr_b[(arr_b % 2 == 0)])"
   ]
  },
  {
   "cell_type": "code",
   "execution_count": 67,
   "id": "ed59aeb9",
   "metadata": {},
   "outputs": [
    {
     "name": "stdout",
     "output_type": "stream",
     "text": [
      "[[  11 3012]\n",
      " [  21 3022]\n",
      " [  31 3032]]\n"
     ]
    }
   ],
   "source": [
    "# El uso principal de este tipo de filtros es el de poder modificar\n",
    "# los valores del array que cumplen cierto criterio.\n",
    "\n",
    "arr_b[arr_b % 2 == 0] += 1000\n",
    "print(arr_b)"
   ]
  },
  {
   "cell_type": "markdown",
   "id": "2a7fb045",
   "metadata": {},
   "source": [
    "### Slice en arrays de NumPy\n",
    "Hacer Slice a un array sirve para aislar una sub-región de la matriz de un ndarray."
   ]
  },
  {
   "cell_type": "code",
   "execution_count": 79,
   "id": "589a1256",
   "metadata": {},
   "outputs": [
    {
     "name": "stdout",
     "output_type": "stream",
     "text": [
      "[[11 12 13 14 15 16]\n",
      " [21 22 23 24 25 26]\n",
      " [31 32 33 34 35 36]\n",
      " [41 42 43 44 45 46]]\n",
      "(4, 6)\n"
     ]
    }
   ],
   "source": [
    "arr = np.array(\n",
    "    [\n",
    "        [11, 12, 13, 14, 15, 16],\n",
    "        [21, 22, 23, 24, 25, 26],\n",
    "        [31, 32, 33, 34, 35, 36],\n",
    "        [41, 42, 43, 44, 45, 46]\n",
    "    ]\n",
    ")\n",
    "print(arr)\n",
    "print(arr.shape)"
   ]
  },
  {
   "cell_type": "code",
   "execution_count": 89,
   "id": "55b66ef5",
   "metadata": {},
   "outputs": [
    {
     "name": "stdout",
     "output_type": "stream",
     "text": [
      "[[112  13]\n",
      " [ 22  23]]\n",
      "<class 'numpy.ndarray'>\n"
     ]
    }
   ],
   "source": [
    "# Creamos un slice de 2x2 a partir de arr.\n",
    "\n",
    "slice = arr[:2, 1:3]\n",
    "print(slice)\n",
    "print(type(slice))"
   ]
  },
  {
   "cell_type": "code",
   "execution_count": 81,
   "id": "87b5ae73",
   "metadata": {},
   "outputs": [
    {
     "name": "stdout",
     "output_type": "stream",
     "text": [
      "Slice: 12\n"
     ]
    }
   ],
   "source": [
    "# Imprimimos el valor fila 0 columna 0 del slice.\n",
    "\n",
    "print(f'Slice: {slice[0, 0]}')"
   ]
  },
  {
   "cell_type": "code",
   "execution_count": 82,
   "id": "de76a9c3",
   "metadata": {},
   "outputs": [
    {
     "name": "stdout",
     "output_type": "stream",
     "text": [
      "Slice: 112\n"
     ]
    }
   ],
   "source": [
    "# Ahora sumaremos 100 al valor de la posición (0, 0) del slice.\n",
    "\n",
    "slice[0, 0] += 100\n",
    "print(f'Slice: {slice[0, 0]}')"
   ]
  },
  {
   "cell_type": "code",
   "execution_count": 86,
   "id": "dd689af0",
   "metadata": {},
   "outputs": [
    {
     "name": "stdout",
     "output_type": "stream",
     "text": [
      "112\n"
     ]
    }
   ],
   "source": [
    "# Ahora imprimimos la posición (0, 1) del array original.\n",
    "\n",
    "print(arr[0, 1])"
   ]
  },
  {
   "cell_type": "code",
   "execution_count": 90,
   "id": "d48c7c86",
   "metadata": {},
   "outputs": [
    {
     "name": "stdout",
     "output_type": "stream",
     "text": [
      "[[ 11 112  13  14  15  16]\n",
      " [ 21  22  23  24  25  26]\n",
      " [ 31  32  33  34  35  36]\n",
      " [ 41  42  43  44  45  46]]\n",
      "<class 'numpy.ndarray'>\n"
     ]
    }
   ],
   "source": [
    "# De este modo confirmamos que un slice no es un nuevo array, sino\n",
    "# un puntero o  acceso directo al array original. Si modificamos algún\n",
    "# dato de un slice estaremos modificándolo en el array original.\n",
    "\n",
    "print(arr)\n",
    "print(type(arr))"
   ]
  },
  {
   "cell_type": "code",
   "execution_count": 92,
   "id": "0bae4e88",
   "metadata": {},
   "outputs": [
    {
     "name": "stdout",
     "output_type": "stream",
     "text": [
      "[[112  13]\n",
      " [ 22  23]]\n"
     ]
    }
   ],
   "source": [
    "# Para obtener un nuevo array a partir de un slice.\n",
    "\n",
    "nuevo_arr = np.array(slice)\n",
    "print(nuevo_arr)"
   ]
  },
  {
   "cell_type": "markdown",
   "id": "5b00a5d0",
   "metadata": {},
   "source": [
    "### Tipos de datos de los arrays NumPy"
   ]
  },
  {
   "cell_type": "code",
   "execution_count": 93,
   "id": "6fa982cb",
   "metadata": {},
   "outputs": [
    {
     "name": "stdout",
     "output_type": "stream",
     "text": [
      "int64\n"
     ]
    }
   ],
   "source": [
    "# En estos dos casos Python se encarga de asignar el tipo de dato.\n",
    "\n",
    "ej1 = np.array([11, 12])\n",
    "print(ej1.dtype)"
   ]
  },
  {
   "cell_type": "code",
   "execution_count": 94,
   "id": "7b33f787",
   "metadata": {},
   "outputs": [
    {
     "name": "stdout",
     "output_type": "stream",
     "text": [
      "float64\n"
     ]
    }
   ],
   "source": [
    "ej2 = np.array([11.0, 12.0])\n",
    "print(ej2.dtype)"
   ]
  },
  {
   "cell_type": "code",
   "execution_count": 97,
   "id": "a34e7fa1",
   "metadata": {},
   "outputs": [
    {
     "name": "stdout",
     "output_type": "stream",
     "text": [
      "float64\n"
     ]
    }
   ],
   "source": [
    "# Podemos forzar el tipo de dato indicándolo de manera explícita.\n",
    "\n",
    "ej3 = np.array([11, 12], dtype=np.float64)\n",
    "print(ej3.dtype)"
   ]
  },
  {
   "cell_type": "code",
   "execution_count": 99,
   "id": "b8d15664",
   "metadata": {},
   "outputs": [
    {
     "name": "stdout",
     "output_type": "stream",
     "text": [
      "int64\n",
      "[11 12]\n"
     ]
    }
   ],
   "source": [
    "ej4 = np.array([11.1, 12.7], dtype=np.int64)\n",
    "print(ej4.dtype)\n",
    "print(ej4)"
   ]
  },
  {
   "cell_type": "markdown",
   "id": "6d0ee96d",
   "metadata": {},
   "source": [
    "### Operaciones aritméticas"
   ]
  },
  {
   "cell_type": "code",
   "execution_count": 107,
   "id": "3c27ce27",
   "metadata": {},
   "outputs": [
    {
     "name": "stdout",
     "output_type": "stream",
     "text": [
      "[[111 112]\n",
      " [121 122]]\n",
      "\n",
      "[[211.1 212.1]\n",
      " [221.1 222.1]]\n"
     ]
    }
   ],
   "source": [
    "x = np.array([[111, 112], [121, 122]], dtype=np.int64)\n",
    "y = np.array([[211.1, 212.1], [221.1, 222.1]], dtype=np.float64)\n",
    "\n",
    "print(x)\n",
    "print()\n",
    "print(y)"
   ]
  },
  {
   "cell_type": "code",
   "execution_count": 108,
   "id": "41919478",
   "metadata": {},
   "outputs": [
    {
     "name": "stdout",
     "output_type": "stream",
     "text": [
      "[[-100.1 -100.1]\n",
      " [-100.1 -100.1]]\n",
      "\n",
      "[[-100.1 -100.1]\n",
      " [-100.1 -100.1]]\n"
     ]
    }
   ],
   "source": [
    "# Resta.\n",
    "\n",
    "print(x - y)\n",
    "print()\n",
    "print(np.subtract(x, y))"
   ]
  },
  {
   "cell_type": "code",
   "execution_count": 109,
   "id": "5908c745",
   "metadata": {},
   "outputs": [
    {
     "name": "stdout",
     "output_type": "stream",
     "text": [
      "[[23432.1 23755.2]\n",
      " [26753.1 27096.2]]\n",
      "\n",
      "[[23432.1 23755.2]\n",
      " [26753.1 27096.2]]\n"
     ]
    }
   ],
   "source": [
    "# Multiplicación.\n",
    "\n",
    "print(x * y)\n",
    "print()\n",
    "print(np.multiply(x, y))"
   ]
  },
  {
   "cell_type": "code",
   "execution_count": 110,
   "id": "524fecda",
   "metadata": {},
   "outputs": [
    {
     "name": "stdout",
     "output_type": "stream",
     "text": [
      "[[0.52581715 0.52805281]\n",
      " [0.54726368 0.54930212]]\n",
      "\n",
      "[[0.52581715 0.52805281]\n",
      " [0.54726368 0.54930212]]\n"
     ]
    }
   ],
   "source": [
    "# División.\n",
    "\n",
    "print(x / y)\n",
    "print()\n",
    "print(np.divide(x, y))"
   ]
  },
  {
   "cell_type": "code",
   "execution_count": 111,
   "id": "8f6b80ba",
   "metadata": {},
   "outputs": [
    {
     "name": "stdout",
     "output_type": "stream",
     "text": [
      "[[10.53565375 10.58300524]\n",
      " [11.         11.04536102]]\n"
     ]
    }
   ],
   "source": [
    "# Raíz cuadrada.\n",
    "\n",
    "print(np.sqrt(x))"
   ]
  },
  {
   "cell_type": "markdown",
   "id": "1a092c7a",
   "metadata": {},
   "source": [
    "### Operaciones estadísticas básicas"
   ]
  },
  {
   "cell_type": "code",
   "execution_count": 117,
   "id": "56cc5249",
   "metadata": {},
   "outputs": [
    {
     "name": "stdout",
     "output_type": "stream",
     "text": [
      "[[ 19.62303908  -5.74166852  -0.86986327   9.02906613  12.82559367]\n",
      " [-13.29708677  -5.01951571  12.24339825  20.35663691  -7.0678362 ]]\n"
     ]
    }
   ],
   "source": [
    "# Generar un array aleatorio.\n",
    "\n",
    "arr = 10 * np.random.randn(2, 5)\n",
    "print(arr)"
   ]
  },
  {
   "cell_type": "code",
   "execution_count": 118,
   "id": "fa701f68",
   "metadata": {},
   "outputs": [
    {
     "name": "stdout",
     "output_type": "stream",
     "text": [
      "4.208176355470423\n"
     ]
    }
   ],
   "source": [
    "# Calcular la media (promedio) de un array.\n",
    "\n",
    "print(arr.mean())"
   ]
  },
  {
   "cell_type": "code",
   "execution_count": 121,
   "id": "f23307f5",
   "metadata": {},
   "outputs": [
    {
     "name": "stdout",
     "output_type": "stream",
     "text": [
      "[ 3.16297616 -5.38059212  5.68676749 14.69285152  2.87887874]\n",
      "[6.97323341 1.4431193 ]\n"
     ]
    }
   ],
   "source": [
    "# Calcular el promedio de cada fila individualmente.\n",
    "# eje o axis 0 = columnas\n",
    "# eje o axis 1 = filas\n",
    "\n",
    "print(arr.mean(axis=0))\n",
    "print(arr.mean(axis=1))"
   ]
  },
  {
   "cell_type": "code",
   "execution_count": 123,
   "id": "5edb850e",
   "metadata": {},
   "outputs": [
    {
     "name": "stdout",
     "output_type": "stream",
     "text": [
      "[ 1.92308192  1.66511716 -1.8575921  -0.68829758  0.11909677 -0.54397606\n",
      " -1.20169524 -1.66072445 -1.88674776 -0.88400598]\n"
     ]
    }
   ],
   "source": [
    "# Creamos un array de 10 elementos aleatorios.\n",
    "\n",
    "desordenado = np.random.randn(10)\n",
    "print(desordenado)"
   ]
  },
  {
   "cell_type": "code",
   "execution_count": 126,
   "id": "d2577bf5",
   "metadata": {},
   "outputs": [
    {
     "name": "stdout",
     "output_type": "stream",
     "text": [
      "[-1.88674776 -1.8575921  -1.66072445 -1.20169524 -0.88400598 -0.68829758\n",
      " -0.54397606  0.11909677  1.66511716  1.92308192]\n"
     ]
    }
   ],
   "source": [
    "# Creamos una copia.\n",
    "\n",
    "ordenado = np.array(desordenado)\n",
    "ordenado.sort()\n",
    "\n",
    "print(ordenado)"
   ]
  },
  {
   "cell_type": "code",
   "execution_count": 127,
   "id": "a66306a9",
   "metadata": {},
   "outputs": [
    {
     "name": "stdout",
     "output_type": "stream",
     "text": [
      "[1 2 4]\n"
     ]
    }
   ],
   "source": [
    "# Buscar elementos únicos (MUY ÚTIL!).\n",
    "\n",
    "arr = np.array([1, 2, 1, 4, 2, 1, 4, 2])\n",
    "print(np.unique(arr))\n"
   ]
  },
  {
   "cell_type": "code",
   "execution_count": 129,
   "id": "810278c5",
   "metadata": {},
   "outputs": [
    {
     "name": "stdout",
     "output_type": "stream",
     "text": [
      "['perro' 'gato' 'canario']\n",
      "['perro' 'gato' 'hurón']\n"
     ]
    }
   ],
   "source": [
    "# Operaciones de conjunto.\n",
    "\n",
    "s1 = np.array(['perro', 'gato', 'canario'])\n",
    "s2 = np.array(['perro', 'gato', 'hurón'])\n",
    "print(s1)\n",
    "print(s2)"
   ]
  },
  {
   "cell_type": "code",
   "execution_count": 130,
   "id": "4ebff659",
   "metadata": {},
   "outputs": [
    {
     "name": "stdout",
     "output_type": "stream",
     "text": [
      "['gato' 'perro']\n"
     ]
    }
   ],
   "source": [
    "# Intersección.\n",
    "\n",
    "print(np.intersect1d(s1, s2))"
   ]
  },
  {
   "cell_type": "code",
   "execution_count": 131,
   "id": "73dde95c",
   "metadata": {},
   "outputs": [
    {
     "name": "stdout",
     "output_type": "stream",
     "text": [
      "['canario' 'gato' 'hurón' 'perro']\n"
     ]
    }
   ],
   "source": [
    "# Unión.\n",
    "\n",
    "print(np.union1d(s1, s2))"
   ]
  },
  {
   "cell_type": "code",
   "execution_count": 132,
   "id": "f056fe40",
   "metadata": {},
   "outputs": [
    {
     "name": "stdout",
     "output_type": "stream",
     "text": [
      "['canario']\n"
     ]
    }
   ],
   "source": [
    "# Elementos de s1 que no están en s2.\n",
    "\n",
    "print(np.setdiff1d(s1, s2))"
   ]
  },
  {
   "cell_type": "code",
   "execution_count": 133,
   "id": "618bb574",
   "metadata": {},
   "outputs": [
    {
     "name": "stdout",
     "output_type": "stream",
     "text": [
      "[ True  True False]\n"
     ]
    }
   ],
   "source": [
    "# Elementos de s1 que sí están en s2.\n",
    "\n",
    "print(np.in1d(s1, s2))"
   ]
  },
  {
   "cell_type": "markdown",
   "id": "26cbf02f",
   "metadata": {},
   "source": [
    "### Algunas operaciones frecuentes"
   ]
  },
  {
   "cell_type": "code",
   "execution_count": 137,
   "id": "0c05b4c2",
   "metadata": {},
   "outputs": [
    {
     "name": "stdout",
     "output_type": "stream",
     "text": [
      "[[11 12]\n",
      " [21 22]]\n",
      "\n",
      "66\n"
     ]
    }
   ],
   "source": [
    "# Sumar todos los elementos de un array.\n",
    "\n",
    "ex1 = np.array([[11, 12], [21, 22]])\n",
    "print(ex1)\n",
    "print()\n",
    "print(np.sum(ex1))"
   ]
  },
  {
   "cell_type": "code",
   "execution_count": 138,
   "id": "b1cd5261",
   "metadata": {},
   "outputs": [
    {
     "name": "stdout",
     "output_type": "stream",
     "text": [
      "[32 34]\n"
     ]
    }
   ],
   "source": [
    "# Sumar solo los elementos de una columna.\n",
    "\n",
    "print(np.sum(ex1, axis=0))"
   ]
  },
  {
   "cell_type": "code",
   "execution_count": 139,
   "id": "8cd71f24",
   "metadata": {},
   "outputs": [
    {
     "name": "stdout",
     "output_type": "stream",
     "text": [
      "[23 43]\n"
     ]
    }
   ],
   "source": [
    "# Sumar solo los elementos de una fila.\n",
    "\n",
    "print(np.sum(ex1, axis=1))"
   ]
  },
  {
   "cell_type": "code",
   "execution_count": 142,
   "id": "119b4f38",
   "metadata": {},
   "outputs": [
    {
     "name": "stdout",
     "output_type": "stream",
     "text": [
      "[ 0  1  2  3  4  5  6  7  8  9 10 11 12 13 14 15 16 17 18 19]\n",
      "(20,)\n"
     ]
    }
   ],
   "source": [
    "# Reformateando un array (IMPORTANTE).\n",
    "\n",
    "# Creamos un array.\n",
    "arr = np.arange(20)\n",
    "print(arr)\n",
    "print(arr.shape)"
   ]
  },
  {
   "cell_type": "code",
   "execution_count": 143,
   "id": "5e2adcaf",
   "metadata": {},
   "outputs": [
    {
     "name": "stdout",
     "output_type": "stream",
     "text": [
      "[[ 0  1  2  3  4]\n",
      " [ 5  6  7  8  9]\n",
      " [10 11 12 13 14]\n",
      " [15 16 17 18 19]]\n"
     ]
    }
   ],
   "source": [
    "# Cambiamos su forma.\n",
    "\n",
    "reshaped_arr = arr.reshape(4, 5)\n",
    "print(reshaped_arr)"
   ]
  },
  {
   "cell_type": "code",
   "execution_count": 147,
   "id": "810d9e6b",
   "metadata": {},
   "outputs": [
    {
     "name": "stdout",
     "output_type": "stream",
     "text": [
      "[[11 12]\n",
      " [21 22]]\n",
      "\n",
      "[[11 21]\n",
      " [12 22]]\n"
     ]
    }
   ],
   "source": [
    "# Transponer o transposicionar un array.\n",
    "\n",
    "ex1 = np.array([[11, 12], [21, 22]])\n",
    "print(ex1)\n",
    "print()\n",
    "print(ex1.T)"
   ]
  },
  {
   "cell_type": "code",
   "execution_count": 149,
   "id": "f5bab6d1",
   "metadata": {},
   "outputs": [
    {
     "name": "stdout",
     "output_type": "stream",
     "text": [
      "[[0.65484635 0.94511282 0.87775092 0.39507371]\n",
      " [0.65666202 0.14507779 0.51809283 0.99177284]\n",
      " [0.84953341 0.39580613 0.21493355 0.37629672]\n",
      " [0.02368954 0.49901455 0.41723267 0.6943742 ]]\n"
     ]
    }
   ],
   "source": [
    "# WHERE ... NUY ÚTIL!\n",
    "\n",
    "mat = np.random.rand(4, 4)\n",
    "print(mat)"
   ]
  },
  {
   "cell_type": "code",
   "execution_count": 154,
   "id": "36d83ca3",
   "metadata": {},
   "outputs": [
    {
     "name": "stdout",
     "output_type": "stream",
     "text": [
      "[[1000 1000 1000   -1]\n",
      " [1000   -1 1000 1000]\n",
      " [1000   -1   -1   -1]\n",
      " [  -1   -1   -1 1000]]\n"
     ]
    }
   ],
   "source": [
    "# Ahora le paso como argumentos una condición, valor si True y valor si False.\n",
    "# Por ejemplo:\n",
    "#   Si se cumple que el valor es > 0.5, cambia el valor por 1000, y si no por -1.\n",
    "\n",
    "print(np.where(mat > 0.5, 1000, -1))"
   ]
  },
  {
   "cell_type": "code",
   "execution_count": 155,
   "id": "a5233d0b",
   "metadata": {},
   "outputs": [
    {
     "name": "stdout",
     "output_type": "stream",
     "text": [
      "True\n"
     ]
    }
   ],
   "source": [
    "# Comprobar si algún elemento del array es True. Nótese que funciona tanto con valores\n",
    "# booleanos (True y False) como con números, ya que 0 se considera False y todo distinto\n",
    "# de 0 True.\n",
    "\n",
    "arr_bools = np.array([0, 0, 0, 0, 0, True])\n",
    "print(arr_bools.any())"
   ]
  },
  {
   "cell_type": "code",
   "execution_count": 156,
   "id": "1ca7c96c",
   "metadata": {},
   "outputs": [
    {
     "name": "stdout",
     "output_type": "stream",
     "text": [
      "False\n"
     ]
    }
   ],
   "source": [
    "# Comprobar si todos los elementos del array son True. Al igual que antes, funciona tanto\n",
    "# con valores booleanos (True y False) como con números, ya que 0 se considera False y\n",
    "# todo distinto de 0 True.\n",
    "\n",
    "arr_bools = np.array([1, 1, False])\n",
    "print(arr_bools.all())"
   ]
  },
  {
   "cell_type": "markdown",
   "id": "a17bb503",
   "metadata": {},
   "source": [
    "### Uniendo data sets"
   ]
  },
  {
   "cell_type": "code",
   "execution_count": 158,
   "id": "ea7384e1",
   "metadata": {},
   "outputs": [
    {
     "name": "stdout",
     "output_type": "stream",
     "text": [
      "[[10  2]\n",
      " [29  2]]\n",
      "\n",
      "[[46 16]\n",
      " [45  4]]\n"
     ]
    }
   ],
   "source": [
    "# Creamos dos array de 2x2 con números aleatorios tal que el mínimo sea 2 y el máximo 50.\n",
    "K = np.random.randint(low=2, high=50, size=(2, 2))\n",
    "print(K)\n",
    "\n",
    "print()\n",
    "\n",
    "M = np.random.randint(low=2, high=50, size=(2, 2))\n",
    "print(M)"
   ]
  },
  {
   "cell_type": "code",
   "execution_count": 159,
   "id": "3997f680",
   "metadata": {},
   "outputs": [
    {
     "name": "stdout",
     "output_type": "stream",
     "text": [
      "[[10  2]\n",
      " [29  2]\n",
      " [46 16]\n",
      " [45  4]]\n"
     ]
    }
   ],
   "source": [
    "# Unimos apilando verticalmente.\n",
    "\n",
    "print(np.vstack((K, M)))"
   ]
  },
  {
   "cell_type": "code",
   "execution_count": 160,
   "id": "6544d652",
   "metadata": {},
   "outputs": [
    {
     "name": "stdout",
     "output_type": "stream",
     "text": [
      "[[10  2 46 16]\n",
      " [29  2 45  4]]\n"
     ]
    }
   ],
   "source": [
    "# Unimos apilando horizontalmente.\n",
    "\n",
    "print(np.hstack((K, M)))"
   ]
  },
  {
   "cell_type": "code",
   "execution_count": 163,
   "id": "5d4b172c",
   "metadata": {},
   "outputs": [
    {
     "name": "stdout",
     "output_type": "stream",
     "text": [
      "[[10  2]\n",
      " [29  2]\n",
      " [46 16]\n",
      " [45  4]]\n",
      "\n",
      "[[10  2 46 16]\n",
      " [29  2 45  4]]\n"
     ]
    }
   ],
   "source": [
    "# Otra opción es unirlos concatenándolos.\n",
    "\n",
    "print(np.concatenate([K, M], axis=0))\n",
    "print()\n",
    "print(np.concatenate([K, M], axis=1))"
   ]
  },
  {
   "cell_type": "markdown",
   "id": "cac27c30",
   "metadata": {},
   "source": [
    "### Propagación"
   ]
  },
  {
   "cell_type": "code",
   "execution_count": 164,
   "id": "92671e6f",
   "metadata": {},
   "outputs": [
    {
     "name": "stdout",
     "output_type": "stream",
     "text": [
      "[[0. 0. 0. 0.]\n",
      " [0. 0. 0. 0.]\n",
      " [0. 0. 0. 0.]\n",
      " [0. 0. 0. 0.]]\n"
     ]
    }
   ],
   "source": [
    "# Creamos un array de 4x4 con ceros.\n",
    "\n",
    "base = np.zeros((4, 4))\n",
    "print(base)"
   ]
  },
  {
   "cell_type": "code",
   "execution_count": 165,
   "id": "af7bfe0e",
   "metadata": {},
   "outputs": [
    {
     "name": "stdout",
     "output_type": "stream",
     "text": [
      "[1 0 2 7]\n",
      "(4,)\n"
     ]
    }
   ],
   "source": [
    "# Creamos un array unidimensional llamado row con el mimso número de elementos que la base.\n",
    "\n",
    "row = np.array([1, 0, 2, 7])\n",
    "print(row)\n",
    "print(row.shape)"
   ]
  },
  {
   "cell_type": "code",
   "execution_count": 166,
   "id": "53752394",
   "metadata": {},
   "outputs": [
    {
     "name": "stdout",
     "output_type": "stream",
     "text": [
      "[[1. 0. 2. 7.]\n",
      " [1. 0. 2. 7.]\n",
      " [1. 0. 2. 7.]\n",
      " [1. 0. 2. 7.]]\n"
     ]
    }
   ],
   "source": [
    "# Vamos a realizar una suma de los 4 elementos de row a cada fila de base (propagación).\n",
    "\n",
    "y = base + row\n",
    "print(y)"
   ]
  },
  {
   "cell_type": "code",
   "execution_count": 168,
   "id": "e65798b4",
   "metadata": {},
   "outputs": [
    {
     "name": "stdout",
     "output_type": "stream",
     "text": [
      "[[0 1 2 3]]\n"
     ]
    }
   ],
   "source": [
    "# Repetimos lo mismo pero en este caso la propagación de la suma es por columnas.\n",
    "\n",
    "col = np.array([[0, 1, 2, 3]])\n",
    "print(col)"
   ]
  },
  {
   "cell_type": "code",
   "execution_count": 169,
   "id": "e04fd97d",
   "metadata": {},
   "outputs": [
    {
     "name": "stdout",
     "output_type": "stream",
     "text": [
      "[[0]\n",
      " [1]\n",
      " [2]\n",
      " [3]]\n"
     ]
    }
   ],
   "source": [
    "# Ahora transponemos (verticalizamos) este array.\n",
    "\n",
    "col = col.T\n",
    "print(col)"
   ]
  },
  {
   "cell_type": "code",
   "execution_count": 170,
   "id": "b852eb9a",
   "metadata": {},
   "outputs": [
    {
     "name": "stdout",
     "output_type": "stream",
     "text": [
      "[[0. 0. 0. 0.]\n",
      " [1. 1. 1. 1.]\n",
      " [2. 2. 2. 2.]\n",
      " [3. 3. 3. 3.]]\n"
     ]
    }
   ],
   "source": [
    "# Realizamos la propagación vertical.\n",
    "\n",
    "y = base + col\n",
    "print(y)"
   ]
  },
  {
   "cell_type": "code",
   "execution_count": 171,
   "id": "d2c87ab5",
   "metadata": {},
   "outputs": [
    {
     "name": "stdout",
     "output_type": "stream",
     "text": [
      "[[0]\n",
      " [1]\n",
      " [2]]\n"
     ]
    }
   ],
   "source": [
    "# Probemos a crear una columna que no tiene el mismo alto que nuestras columnas de base.\n",
    "\n",
    "col = np.array([[0, 1, 2]])\n",
    "col = col.T\n",
    "print(col)"
   ]
  },
  {
   "cell_type": "code",
   "execution_count": 172,
   "id": "2e27820c",
   "metadata": {},
   "outputs": [
    {
     "ename": "ValueError",
     "evalue": "operands could not be broadcast together with shapes (4,4) (3,1) ",
     "output_type": "error",
     "traceback": [
      "\u001b[0;31m---------------------------------------------------------------------------\u001b[0m",
      "\u001b[0;31mValueError\u001b[0m                                Traceback (most recent call last)",
      "\u001b[0;32m<ipython-input-172-eaa9fc033bdf>\u001b[0m in \u001b[0;36m<module>\u001b[0;34m\u001b[0m\n\u001b[1;32m      1\u001b[0m \u001b[0;31m# Veamos qué pasa si quiero hacer una propagación vertical como antes.\u001b[0m\u001b[0;34m\u001b[0m\u001b[0;34m\u001b[0m\u001b[0;34m\u001b[0m\u001b[0m\n\u001b[1;32m      2\u001b[0m \u001b[0;34m\u001b[0m\u001b[0m\n\u001b[0;32m----> 3\u001b[0;31m \u001b[0my\u001b[0m \u001b[0;34m=\u001b[0m \u001b[0mbase\u001b[0m \u001b[0;34m+\u001b[0m \u001b[0mcol\u001b[0m\u001b[0;34m\u001b[0m\u001b[0;34m\u001b[0m\u001b[0m\n\u001b[0m\u001b[1;32m      4\u001b[0m \u001b[0mprint\u001b[0m\u001b[0;34m(\u001b[0m\u001b[0my\u001b[0m\u001b[0;34m)\u001b[0m\u001b[0;34m\u001b[0m\u001b[0;34m\u001b[0m\u001b[0m\n",
      "\u001b[0;31mValueError\u001b[0m: operands could not be broadcast together with shapes (4,4) (3,1) "
     ]
    }
   ],
   "source": [
    "# Veamos qué pasa si quiero hacer una propagación vertical como antes.\n",
    "\n",
    "y = base + col\n",
    "print(y)"
   ]
  },
  {
   "cell_type": "code",
   "execution_count": 173,
   "id": "864a9555",
   "metadata": {},
   "outputs": [],
   "source": [
    "# El ejemplo anterior no ha funcionado, como era de esperar."
   ]
  },
  {
   "cell_type": "code",
   "execution_count": 174,
   "id": "e4e0d328",
   "metadata": {},
   "outputs": [
    {
     "name": "stdout",
     "output_type": "stream",
     "text": [
      "[1]\n",
      "\n",
      "[[1. 1. 1. 1.]\n",
      " [1. 1. 1. 1.]\n",
      " [1. 1. 1. 1.]\n",
      " [1. 1. 1. 1.]]\n"
     ]
    }
   ],
   "source": [
    "# Probemos a propagar un array de un solo elemento por toda la base.\n",
    "\n",
    "arr = np.array([1])\n",
    "print(arr)\n",
    "print()\n",
    "print(base + arr)"
   ]
  },
  {
   "cell_type": "markdown",
   "id": "5c4c9c56",
   "metadata": {},
   "source": [
    "### Prueba de velocidad"
   ]
  },
  {
   "cell_type": "code",
   "execution_count": 178,
   "id": "8e77f82c",
   "metadata": {},
   "outputs": [],
   "source": [
    "from numpy import arange\n",
    "from timeit import Timer"
   ]
  },
  {
   "cell_type": "code",
   "execution_count": 181,
   "id": "7defbcd2",
   "metadata": {},
   "outputs": [
    {
     "name": "stdout",
     "output_type": "stream",
     "text": [
      "Tipo de dato: <class 'numpy.ndarray'>\n",
      "Forma: (1000000,)\n"
     ]
    }
   ],
   "source": [
    "# Creamo un array de una dimensión de 1000000 elementos.\n",
    "\n",
    "size = 1000000\n",
    "timeits = 1000\n",
    "\n",
    "nd_array = arange(size)\n",
    "print(f'Tipo de dato: {type(nd_array)}')\n",
    "print(f'Forma: {nd_array.shape}')"
   ]
  },
  {
   "cell_type": "code",
   "execution_count": 184,
   "id": "a0f160f7",
   "metadata": {},
   "outputs": [
    {
     "name": "stdout",
     "output_type": "stream",
     "text": [
      "Time taken by numpy ndarray: 0.6119546050322242 seconds.\n"
     ]
    }
   ],
   "source": [
    "# Con la función Timer podemos medir el tiempo que lleva realizar\n",
    "# una operación o función.\n",
    "\n",
    "timer_numpy = Timer('nd_array.sum()', 'from __main__ import nd_array')\n",
    "print(f'Time taken by numpy ndarray: {timer_numpy.timeit(timeits)} seconds.')"
   ]
  },
  {
   "cell_type": "code",
   "execution_count": 185,
   "id": "3159634d",
   "metadata": {},
   "outputs": [
    {
     "name": "stdout",
     "output_type": "stream",
     "text": [
      "<class 'list'>\n",
      "Forma: 1000000\n"
     ]
    }
   ],
   "source": [
    "a_list = list(range(size))\n",
    "print(type(a_list))\n",
    "print(f'Forma: {len(a_list)}')"
   ]
  },
  {
   "cell_type": "code",
   "execution_count": 186,
   "id": "bc23b095",
   "metadata": {},
   "outputs": [
    {
     "name": "stdout",
     "output_type": "stream",
     "text": [
      "Time taken by list: 6.520576351962518 seconds.\n"
     ]
    }
   ],
   "source": [
    "timer_list = Timer('sum(a_list)', 'from __main__ import a_list')\n",
    "print(f'Time taken by list: {timer_list.timeit(timeits)} seconds.')"
   ]
  },
  {
   "cell_type": "markdown",
   "id": "c661baae",
   "metadata": {},
   "source": [
    "### Grabar array a disco / Recuperar array de disco"
   ]
  },
  {
   "cell_type": "code",
   "execution_count": 187,
   "id": "875792ca",
   "metadata": {},
   "outputs": [],
   "source": [
    "x = np.array([23.23, 24.24])"
   ]
  },
  {
   "cell_type": "code",
   "execution_count": 188,
   "id": "b3484005",
   "metadata": {},
   "outputs": [],
   "source": [
    "np.save('array_importante', x)"
   ]
  },
  {
   "cell_type": "code",
   "execution_count": 189,
   "id": "0a5d2728",
   "metadata": {},
   "outputs": [
    {
     "name": "stdout",
     "output_type": "stream",
     "text": [
      "total 84\r\n",
      "-rw-rw-r-- 1 jdg jdg    74 may  9 12:09 README.md\r\n",
      "-rw-rw-r-- 1 jdg jdg 35149 may  9 12:09 LICENSE\r\n",
      "-rw-rw-r-- 1 jdg jdg 38928 may 10 19:15 NumPy.ipynb\r\n",
      "-rw-rw-r-- 1 jdg jdg   144 may 10 19:15 array_importante.npy\r\n"
     ]
    }
   ],
   "source": [
    "!ls -lrt"
   ]
  },
  {
   "cell_type": "code",
   "execution_count": 190,
   "id": "cc9c8938",
   "metadata": {},
   "outputs": [
    {
     "name": "stdout",
     "output_type": "stream",
     "text": [
      "El array recuperado es: [23.23 24.24]\n"
     ]
    }
   ],
   "source": [
    "recuperado = np.load('array_importante.npy')\n",
    "print(f'El array recuperado es: {recuperado}')"
   ]
  },
  {
   "cell_type": "code",
   "execution_count": null,
   "id": "98908e57",
   "metadata": {},
   "outputs": [],
   "source": []
  }
 ],
 "metadata": {
  "kernelspec": {
   "display_name": "Python 3",
   "language": "python",
   "name": "python3"
  },
  "language_info": {
   "codemirror_mode": {
    "name": "ipython",
    "version": 3
   },
   "file_extension": ".py",
   "mimetype": "text/x-python",
   "name": "python",
   "nbconvert_exporter": "python",
   "pygments_lexer": "ipython3",
   "version": "3.8.8"
  }
 },
 "nbformat": 4,
 "nbformat_minor": 5
}
